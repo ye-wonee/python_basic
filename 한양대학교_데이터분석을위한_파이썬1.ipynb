{
  "nbformat": 4,
  "nbformat_minor": 0,
  "metadata": {
    "colab": {
      "name": "한양대학교_데이터분석을위한_파이썬1.ipynb",
      "provenance": [],
      "authorship_tag": "ABX9TyNe0t5A5BgsdLSQKeOhTe1w",
      "include_colab_link": true
    },
    "kernelspec": {
      "name": "python3",
      "display_name": "Python 3"
    },
    "language_info": {
      "name": "python"
    }
  },
  "cells": [
    {
      "cell_type": "markdown",
      "metadata": {
        "id": "view-in-github",
        "colab_type": "text"
      },
      "source": [
        "<a href=\"https://colab.research.google.com/github/ye-wonee/python_basic/blob/main/%ED%95%9C%EC%96%91%EB%8C%80%ED%95%99%EA%B5%90_%EB%8D%B0%EC%9D%B4%ED%84%B0%EB%B6%84%EC%84%9D%EC%9D%84%EC%9C%84%ED%95%9C_%ED%8C%8C%EC%9D%B4%EC%8D%AC1.ipynb\" target=\"_parent\"><img src=\"https://colab.research.google.com/assets/colab-badge.svg\" alt=\"Open In Colab\"/></a>"
      ]
    },
    {
      "cell_type": "code",
      "execution_count": null,
      "metadata": {
        "colab": {
          "base_uri": "https://localhost:8080/"
        },
        "id": "TliZPdZiyyZz",
        "outputId": "658ecfdc-b564-43d6-9318-72a98644ea6a"
      },
      "outputs": [
        {
          "output_type": "stream",
          "name": "stdout",
          "text": [
            "Hello Python!\n"
          ]
        }
      ],
      "source": [
        "print(\"Hello Python!\")"
      ]
    },
    {
      "cell_type": "code",
      "source": [
        "# 여기는 주석\n",
        "# 이곳에 코드를 설명해줍니다\n",
        "\n",
        "\"\"\"\n",
        "여기는 여러줄 주석입니다\n",
        ".\n",
        ".\n",
        ".\n",
        "\"\"\""
      ],
      "metadata": {
        "id": "brsm-PON0eBm"
      },
      "execution_count": null,
      "outputs": []
    },
    {
      "cell_type": "code",
      "source": [
        "## 기본 출력 함수\n",
        "# 기본적인 output 함수\n",
        "print('hello world!')\n",
        "print(\"hello world!\")\n",
        "\n",
        "# Separator, End 옵션\n",
        "print(\"H\",\"E\",\"L\",\"L\",\"O\",sep=\" - \")\n",
        "print(\"2022\",\"01\",\"01\",sep=\" - \")\n",
        "print(\"yewonpark\",\"hanyang.ac.kr\",sep=\"@\")\n",
        "\n",
        "print(\"Welcome!\",end=\"\") \n",
        "print(\"welcome?\",end=\"\") #일렬로 출력됨\n",
        "print(\"Python\")\n",
        "print(\"Python3\")\n",
        "\n",
        "# format 형식 출력 [] , {} , ()\n",
        "print('{} and {}!'.format('you','me')) # dot(.)은 해당 함수의 내부 기능을 사용하겠다는 뜻으로 먼저 이해\n",
        "print('{0} and {1} and {0}'.format('you','me'))\n",
        "print('{a} and {b} !!'.format(a='you', b='me'))\n",
        "\n",
        "# format을 사용해서 구구단 출력 (2,3단만)\n",
        "for a in range(2, 4):       # 앞에 표시하는 단 수 (2단, 3단)\n",
        "    for b in range(1, 10):  # 뒤에 곱하는 수\n",
        "        print('{0} x {1} = {2:2}'.format(a, b, a*b))\n",
        "\n",
        "# 직접 대입하기\n",
        "s1 = 'name : {0}'.format('BlockDMask')\n",
        "print(s1)\n",
        " \n",
        " \n",
        "# 변수로 대입 하기\n",
        "age = 55\n",
        "s2 = 'age : {0}'.format(age)\n",
        "print(s2)\n",
        " \n",
        "# 이름으로 대입하기\n",
        "s3 = 'number : {num}, gender : {gen}'.format(num=1234, gen='남')\n",
        "print(s3)\n",
        "\n",
        "# 문자열 정렬하기\n",
        "\"\"\"\n",
        "{0:<10} : {0} 값을 \":<10\" 10자리로 표현할건데 왼쪽 정렬을 할 것이다.\n",
        "{1:>5} : {1} 값을 \":>5\" 5자리로 표현할건데 오른쪽 정렬을 할 것이다.\n",
        "\"\"\"\n",
        "# 왼쪽 정렬\n",
        "s9 = 'this is {0:<10} | done {1:<5} |'.format('left', 'a')\n",
        "print(s9)\n",
        " \n",
        "# 오른쪽 정렬\n",
        "s10 = 'this is {0:>10} | done {1:>5} |'.format('right', 'b')\n",
        "print(s10)\n",
        " \n",
        "# 가운데 정렬\n",
        "s11 = 'this is {0:^10} | done {1:^5} |'.format('center', 'c')\n",
        "print(s11)\n",
        "\n",
        "\n",
        "\n"
      ],
      "metadata": {
        "colab": {
          "base_uri": "https://localhost:8080/"
        },
        "id": "Uwwd44r-0n7b",
        "outputId": "15b12b20-4dca-4971-9bef-6454ee6856fa"
      },
      "execution_count": null,
      "outputs": [
        {
          "output_type": "stream",
          "name": "stdout",
          "text": [
            "hello world!\n",
            "hello world!\n",
            "H - E - L - L - O\n",
            "2022 - 01 - 01\n",
            "yewonpark@hanyang.ac.kr\n",
            "Welcome!welcome?Python\n",
            "Python3\n",
            "you and me!\n",
            "you and me and you\n",
            "you and me !!\n",
            "2 x 1 =  2\n",
            "2 x 2 =  4\n",
            "2 x 3 =  6\n",
            "2 x 4 =  8\n",
            "2 x 5 = 10\n",
            "2 x 6 = 12\n",
            "2 x 7 = 14\n",
            "2 x 8 = 16\n",
            "2 x 9 = 18\n",
            "3 x 1 =  3\n",
            "3 x 2 =  6\n",
            "3 x 3 =  9\n",
            "3 x 4 = 12\n",
            "3 x 5 = 15\n",
            "3 x 6 = 18\n",
            "3 x 7 = 21\n",
            "3 x 8 = 24\n",
            "3 x 9 = 27\n",
            "name : BlockDMask\n",
            "age : 55\n",
            "number : 1234, gender : 남\n",
            "this is left       | done a     |\n",
            "this is      right | done     b |\n",
            "this is   center   | done   c   |\n"
          ]
        }
      ]
    },
    {
      "cell_type": "code",
      "source": [
        "\"\"\"\n",
        "type() 은 데이터의 자료형을 출력 해 주는 함수\n",
        "\"\"\"\n",
        "my_var = 100\n",
        "print(type(\"name\"))\n",
        "print(type(my_var))"
      ],
      "metadata": {
        "colab": {
          "base_uri": "https://localhost:8080/"
        },
        "id": "xntV9-l_31p7",
        "outputId": "255d4c0a-a434-48b5-a492-0c71d62574b3"
      },
      "execution_count": null,
      "outputs": [
        {
          "output_type": "stream",
          "name": "stdout",
          "text": [
            "<class 'str'>\n",
            "<class 'int'>\n"
          ]
        }
      ]
    },
    {
      "cell_type": "code",
      "source": [
        "# Boolean\n",
        "my_bool = True\n",
        "your_bool = False\n",
        "\n",
        "print(my_bool)\n",
        "print(your_bool)\n",
        "\n",
        "a = 100\n",
        "b = 200\n",
        "print(a > b) # a가 b보다 크다\n",
        "print(a < b) # b가 a보다 크다\n",
        "print(a >= b) # a가 b보다 크거나 같다\n",
        "print(a <= b) # b가 a보다 크거나 같다\n",
        "print(a == b) # a와 b가 같다 ------>  = : 왼쪽 변수에 오른쪽 데이터를 대입 / == : 양쪽 비교\n",
        "print(a != b) # a와 b가 다르다"
      ],
      "metadata": {
        "colab": {
          "base_uri": "https://localhost:8080/"
        },
        "id": "nQtGsR853_21",
        "outputId": "f3a1d0d5-6a99-4bcc-955b-60db850221f4"
      },
      "execution_count": null,
      "outputs": [
        {
          "output_type": "stream",
          "name": "stdout",
          "text": [
            "True\n",
            "False\n",
            "False\n",
            "True\n",
            "False\n",
            "True\n",
            "False\n",
            "True\n"
          ]
        }
      ]
    },
    {
      "cell_type": "code",
      "source": [
        "# 문자열\n",
        "my_name = 'paul'\n",
        "your_name = 'tiger'\n",
        "\n",
        "print(my_name)\n",
        "print(len(my_name))\n",
        "\n",
        "my_multi = \"\"\"\n",
        "이래도\n",
        "출력이\n",
        "되나요?\n",
        "\"\"\"\n",
        "\n",
        "print(my_multi)\n",
        "\n",
        "a = 'testword'\n",
        "b = 'gamza'\n",
        "\n",
        "print(a.islower()) # a가 소문자인가요\n",
        "print(b.endswith('a')) # 알파벳 a로 끝나나요\n",
        "print(a.capitalize())\n",
        "print(b.replace(\"g\",\"n\"))"
      ],
      "metadata": {
        "colab": {
          "base_uri": "https://localhost:8080/"
        },
        "id": "KxwSnBd44zo4",
        "outputId": "8b090118-55da-4cee-9875-a3c01e474d0c"
      },
      "execution_count": null,
      "outputs": [
        {
          "output_type": "stream",
          "name": "stdout",
          "text": [
            "paul\n",
            "4\n",
            "\n",
            "이래도\n",
            "출력이\n",
            "되나요?\n",
            "\n",
            "True\n",
            "True\n",
            "Testword\n",
            "namza\n"
          ]
        }
      ]
    },
    {
      "cell_type": "code",
      "source": [
        "# List []\n",
        "# 배열, 나열된 데이터, 데이터 모음\n",
        "a = []\n",
        "b = list()\n",
        "\n",
        "my_company = [\"구글\",\"삼성\",\"LG\",\"1\",2,3]\n",
        "my_number = [1,2,3,4,5]\n",
        "\n",
        "# 인덱스 !? -> 각 값에 대한 위치 정보\n",
        "# 시작은 0\n",
        "print(my_company)\n",
        "print(my_company[1])\n",
        "\n",
        "print(my_company + my_number)\n",
        "print(my_company * 2) # 곱하기는 반복해줌\n",
        "\n",
        "my_company[0] = \"한양\"\n",
        "print(my_company)\n",
        "\n",
        "del my_company[0]\n",
        "print(my_company)\n",
        "\n",
        "y = [5,2,3,1,4]\n",
        "print(y)\n",
        "y.append(7) # append: 데이터 추가 (있는 그대로)\n",
        "print(y)\n",
        "y.sort() # sort: 데이터 정렬\n",
        "print(y)\n",
        "y.reverse() # reverse: 역으로 정렬\n",
        "print(y)\n",
        "y.remove(2)\n",
        "print(y)\n",
        "x = [100, 200]\n",
        "y.extend(x) # 뒤에 x 추가 (y+x와 동일)\n",
        "print(y)\n",
        "y.append(x)\n",
        "print(y)"
      ],
      "metadata": {
        "colab": {
          "base_uri": "https://localhost:8080/"
        },
        "id": "ep6oll0f6EwB",
        "outputId": "1d854171-eff0-45c0-a3ed-705087797453"
      },
      "execution_count": null,
      "outputs": [
        {
          "output_type": "stream",
          "name": "stdout",
          "text": [
            "['구글', '삼성', 'LG', '1', 2, 3]\n",
            "삼성\n",
            "['구글', '삼성', 'LG', '1', 2, 3, 1, 2, 3, 4, 5]\n",
            "['구글', '삼성', 'LG', '1', 2, 3, '구글', '삼성', 'LG', '1', 2, 3]\n",
            "['한양', '삼성', 'LG', '1', 2, 3]\n",
            "['삼성', 'LG', '1', 2, 3]\n",
            "[5, 2, 3, 1, 4]\n",
            "[5, 2, 3, 1, 4, 7]\n",
            "[1, 2, 3, 4, 5, 7]\n",
            "[7, 5, 4, 3, 2, 1]\n",
            "[7, 5, 4, 3, 1]\n",
            "[7, 5, 4, 3, 1, 100, 200]\n",
            "[7, 5, 4, 3, 1, 100, 200, [100, 200]]\n"
          ]
        }
      ]
    },
    {
      "cell_type": "code",
      "source": [
        "# Tuple ()\n",
        "# 리스트와 동일 -> 수정/삭제가 불가능 -> 일반적으로 변경되면 안 되는 정보를 넣어둠\n",
        "\n",
        "v_tuple = 1, 5, 7\n",
        "\n",
        "a = ()\n",
        "b = (1,)\n",
        "c = (1, 2, 3, 4)\n",
        "\n",
        "print(a)\n",
        "print(b)\n",
        "print(c)\n",
        "print(c[0])"
      ],
      "metadata": {
        "colab": {
          "base_uri": "https://localhost:8080/"
        },
        "id": "_5iizppp5002",
        "outputId": "992aafb8-2706-4468-9578-a4538e805a1f"
      },
      "execution_count": null,
      "outputs": [
        {
          "output_type": "stream",
          "name": "stdout",
          "text": [
            "()\n",
            "(1,)\n",
            "(1, 2, 3, 4)\n",
            "1\n"
          ]
        }
      ]
    },
    {
      "cell_type": "code",
      "source": [
        "# Dictionary/Dict {}\n",
        "\n",
        "a = dict()\n",
        "b = {}\n",
        "\n",
        "# key: value\n",
        "my_data = {\n",
        "    \"name\" : \"홍길동\",\n",
        "    \"age\" : 20,\n",
        "}\n",
        "\n",
        "# dict 출력\n",
        "print(my_data)\n",
        "print(my_data['name'])\n",
        "print(my_data['age'])\n",
        "# print(my_data['phone'])\n",
        "print(my_data.get('phone')) # None\n",
        "print(my_data.get('address','한양대학교'))\n",
        "\n",
        "# dict 값 추가\n",
        "my_data['city'] = \"성남\"\n",
        "print(my_data)\n",
        "\n",
        "# 함수\n",
        "print(my_data.keys())\n",
        "print(list(my_data.keys()))\n",
        "\n",
        "print(my_data.values())\n",
        "print(list(my_data.values()))\n",
        "\n",
        "print(my_data.items())"
      ],
      "metadata": {
        "colab": {
          "base_uri": "https://localhost:8080/"
        },
        "id": "avK4Axmz8tQ0",
        "outputId": "35945c11-0ee2-46c5-baf4-a3a9596ca956"
      },
      "execution_count": null,
      "outputs": [
        {
          "output_type": "stream",
          "name": "stdout",
          "text": [
            "{'name': '홍길동', 'age': 20}\n",
            "홍길동\n",
            "20\n",
            "None\n",
            "한양대학교\n",
            "{'name': '홍길동', 'age': 20, 'city': '성남'}\n",
            "dict_keys(['name', 'age', 'city'])\n",
            "['name', 'age', 'city']\n",
            "dict_values(['홍길동', 20, '성남'])\n",
            "['홍길동', 20, '성남']\n",
            "dict_items([('name', '홍길동'), ('age', 20), ('city', '성남')])\n"
          ]
        }
      ]
    },
    {
      "cell_type": "code",
      "source": [
        "# set 자료형\n",
        "# 집합 -> 중복x, 순서상관 x\n",
        "# 데이터 중복 제거하는 데에도 많이 사용\n",
        "\n",
        "a = set()\n",
        "b = set([1,2,3,4,5])\n",
        "c = set([4,5,6,7,8,8,9])\n",
        "\n",
        "print(type(a))\n",
        "print(b)\n",
        "print(list(b))\n",
        "print(tuple(b))\n",
        "\n",
        "print(b.intersection(c)) # b와 c의 교집합\n",
        "print(b & c) # shift + 7, 교집합\n",
        "print(b.union(c)) # 합집합\n",
        "print(b | c) # shit + \\, 합집합\n",
        "print(b.difference(c)) # 차집합\n",
        "print(b - c) # 차집합\n",
        "\n",
        "b.add(100)\n",
        "b.remove(4)"
      ],
      "metadata": {
        "colab": {
          "base_uri": "https://localhost:8080/"
        },
        "id": "COuBeD---bCc",
        "outputId": "b4c5cc68-e2c3-4cde-8381-8c861ccd3931"
      },
      "execution_count": null,
      "outputs": [
        {
          "output_type": "stream",
          "name": "stdout",
          "text": [
            "<class 'set'>\n",
            "{1, 2, 3, 4, 5}\n",
            "[1, 2, 3, 4, 5]\n",
            "(1, 2, 3, 4, 5)\n",
            "{4, 5}\n",
            "{4, 5}\n",
            "{1, 2, 3, 4, 5, 6, 7, 8, 9}\n",
            "{1, 2, 3, 4, 5, 6, 7, 8, 9}\n",
            "{1, 2, 3}\n",
            "{1, 2, 3}\n"
          ]
        }
      ]
    }
  ]
}